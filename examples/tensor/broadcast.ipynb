{
 "cells": [
  {
   "cell_type": "markdown",
   "id": "57441156",
   "metadata": {},
   "source": [
    "# Broadcasting\n",
    "\n",
    "Tensor supports numpy-like [broadcasting](https://numpy.org/doc/stable/user/basics.broadcasting.html#broadcasting) rules.\n",
    "\n",
    "## For Users\n",
    "An example of broadcasting when a 1-d array is added to a 2-d array:"
   ]
  },
  {
   "cell_type": "code",
   "execution_count": 1,
   "id": "53144a46",
   "metadata": {},
   "outputs": [
    {
     "name": "stdout",
     "output_type": "stream",
     "text": [
      "[[1.0, 2.0, 3.0], [11.0, 12.0, 13.0], [21.0, 22.0, 23.0], [31.0, 32.0, 33.0]]\n",
      "[[1.0, 2.0, 3.0], [11.0, 12.0, 13.0], [21.0, 22.0, 23.0], [31.0, 32.0, 33.0]]\n",
      "Shapes of tensors must match for addition\n"
     ]
    }
   ],
   "source": [
    "from tensor_module import Tensor, Device\n",
    "a = Tensor.from_list([[ 0.0,  0.0,  0.0],\n",
    "                    [10.0, 10.0, 10.0],\n",
    "                    [20.0, 20.0, 20.0],\n",
    "                    [30.0, 30.0, 30.0]])\n",
    "\n",
    "b = Tensor.from_list([1.0, 2.0, 3.0])\n",
    "res = a + b\n",
    "print(res.to_list())\n",
    "\n",
    "res = b + a\n",
    "print(res.to_list())\n",
    "\n",
    "\n",
    "c = Tensor.from_list([1.0, 2.0, 3.0, 4.0])\n",
    "try:\n",
    "    _ = a + c # cannot be broadcasted together\n",
    "except Exception as e:\n",
    "    print(e)"
   ]
  },
  {
   "cell_type": "markdown",
   "id": "067f08dc",
   "metadata": {},
   "source": [
    "# For Developers\n",
    "\n",
    "## Debugging\n",
    "\n",
    "The method `elem_at()` is used to get the value of a tensor at a specific index.\n",
    "\n",
    "In the following example, we create a tensor `t` with shape `(3, 1)` and can 'view' it as a `(3,2)` tensor.\n",
    "You can think of this as padding another column to `t`.\n",
    "\n",
    "$\\begin{bmatrix} x  \\\\ y  \\\\ z  \\end{bmatrix}$ -> $\\begin{bmatrix} x & x \\\\ y & y \\\\ z & z \\end{bmatrix}$"
   ]
  },
  {
   "cell_type": "code",
   "execution_count": 2,
   "id": "0ee380a5",
   "metadata": {},
   "outputs": [
    {
     "name": "stdout",
     "output_type": "stream",
     "text": [
      "[0, 0] => 1.0\n",
      "[0, 1] => 1.0\n",
      "[1, 0] => 2.0\n",
      "[1, 1] => 2.0\n",
      "[2, 0] => 3.0\n",
      "[2, 1] => 3.0\n"
     ]
    }
   ],
   "source": [
    "from tensor_module import Tensor\n",
    "\n",
    "t = Tensor.from_list([[1], [2], [3]])\n",
    "shape = [3, 2]\n",
    "\n",
    "for i in range(shape[0]):\n",
    "    for j in range(shape[1]):\n",
    "        idx = [i, j]\n",
    "        print(idx, '=>',t.elem_at(shape, idx))\n",
    "\n",
    "del t"
   ]
  },
  {
   "cell_type": "markdown",
   "id": "161aeefb",
   "metadata": {},
   "source": [
    "Another example. This time we view $\\begin{bmatrix} 1 & 2 & 3 & 4\\end{bmatrix}$ as $\\begin{bmatrix} 1 & 2 & 3 & 4 \\\\ 1 & 2 & 3 & 4 \\end{bmatrix}$."
   ]
  },
  {
   "cell_type": "code",
   "execution_count": 3,
   "id": "3c6e5fe0",
   "metadata": {},
   "outputs": [
    {
     "name": "stdout",
     "output_type": "stream",
     "text": [
      "[0, 0] => 1.0\n",
      "[1, 0] => 1.0\n",
      "[0, 1] => 2.0\n",
      "[1, 1] => 2.0\n",
      "[0, 2] => 3.0\n",
      "[1, 2] => 3.0\n",
      "[0, 3] => 4.0\n",
      "[1, 3] => 4.0\n"
     ]
    }
   ],
   "source": [
    "t = Tensor.from_list([ 1, 2, 3, 4])\n",
    "shape = [2,4]\n",
    "\n",
    "for j in range(shape[1]):\n",
    "    for i in range(shape[0]):\n",
    "        idx = [i, j]\n",
    "        print(idx, '=>', t.elem_at(shape, idx))\n",
    "\n",
    "del t"
   ]
  },
  {
   "cell_type": "markdown",
   "id": "aa1780fb",
   "metadata": {},
   "source": [
    "One more example. This time the row and columns are both extended."
   ]
  },
  {
   "cell_type": "code",
   "execution_count": 4,
   "id": "a9aed5e8",
   "metadata": {},
   "outputs": [
    {
     "name": "stdout",
     "output_type": "stream",
     "text": [
      "[0, 0] => 1.0\n",
      "[0, 1] => 1.0\n",
      "[1, 0] => 1.0\n",
      "[1, 1] => 1.0\n"
     ]
    }
   ],
   "source": [
    "t = Tensor.from_list([1])\n",
    "shape = [2,2]\n",
    "\n",
    "for i in range(shape[0]):\n",
    "    for j in range(shape[1]):\n",
    "        idx = [i, j]\n",
    "        print(idx, '=>', t.elem_at(shape, idx))\n",
    "\n",
    "del t"
   ]
  },
  {
   "cell_type": "markdown",
   "id": "ef68b80d",
   "metadata": {},
   "source": [
    "## Implementation\n",
    "\n",
    "Consider the following example of outer addition operation:\n",
    "\n",
    "![from_numpy](https://numpy.org/doc/stable/_images/broadcasting_4.png)\n",
    "\n",
    "A possible implementation of this operation is:"
   ]
  },
  {
   "cell_type": "code",
   "execution_count": 5,
   "id": "e5c65e05",
   "metadata": {},
   "outputs": [
    {
     "name": "stdout",
     "output_type": "stream",
     "text": [
      "[[ 1.  2.  3.]\n",
      " [11. 12. 13.]\n",
      " [21. 22. 23.]\n",
      " [31. 32. 33.]]\n",
      "[4, 3]\n",
      "[[1.0, 2.0, 3.0], [11.0, 12.0, 13.0], [21.0, 22.0, 23.0], [31.0, 32.0, 33.0]]\n"
     ]
    }
   ],
   "source": [
    "t1 = Tensor.from_list([[0], [10], [20], [30]])\n",
    "assert t1.shape == list((4, 1))\n",
    "\n",
    "t2 = Tensor.from_list([[1, 2, 3]])\n",
    "assert t2.shape == list((1, 3)) \n",
    "\n",
    "import numpy as np\n",
    "res_shape = [4, 3]\n",
    "res = np.zeros(tuple(res_shape))\n",
    "\n",
    "# to implement efficiently, consider parallelization.\n",
    "for i in range(res_shape[0]):\n",
    "    for j in range(res_shape[1]):\n",
    "        idx = [i, j]\n",
    "        res[i][j] = t1.elem_at(res_shape, idx) + t2.elem_at(res_shape, idx)\n",
    "\n",
    "print(res)\n",
    "\n",
    "print((t1 + t2).shape)\n",
    "print((t1 + t2).to_list())"
   ]
  }
 ],
 "metadata": {
  "kernelspec": {
   "display_name": "ml-tensor",
   "language": "python",
   "name": "python3"
  },
  "language_info": {
   "codemirror_mode": {
    "name": "ipython",
    "version": 3
   },
   "file_extension": ".py",
   "mimetype": "text/x-python",
   "name": "python",
   "nbconvert_exporter": "python",
   "pygments_lexer": "ipython3",
   "version": "3.11.11"
  }
 },
 "nbformat": 4,
 "nbformat_minor": 5
}
