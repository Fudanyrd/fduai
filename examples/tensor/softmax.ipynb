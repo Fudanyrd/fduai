{
 "cells": [
  {
   "cell_type": "markdown",
   "id": "a6b32f7e",
   "metadata": {},
   "source": [
    "# Softmax Implementation"
   ]
  },
  {
   "cell_type": "code",
   "execution_count": 3,
   "id": "f681663f",
   "metadata": {},
   "outputs": [
    {
     "name": "stdout",
     "output_type": "stream",
     "text": [
      "[[0.2689414322376251, 0.7310585975646973], [0.11920291930437088, 0.8807970285415649], [0.0024726232513785362, 0.9975274205207825]]\n",
      "[1.0, 0.9999999403953552, 1.0]\n"
     ]
    }
   ],
   "source": [
    "from tensor_module import Tensor, Device\n",
    "\n",
    "def softmax_unstable(t: Tensor):\n",
    "    p = Tensor.exp(t)\n",
    "    p = Tensor.transpose(p) / Tensor.sum(p, start_dim=1)\n",
    "    return Tensor.transpose(p)\n",
    "\n",
    "def softmax(t: Tensor):\n",
    "    \"\"\" \n",
    "    :param t: tensor of shape (n_sample, n_feature)\n",
    "    :return: tensor of shape (n_sample, n_feature)\n",
    "    \"\"\"\n",
    "    t_max = (Tensor.max(t, keep_dim=True, start_dim=1))\n",
    "    assert t_max.shape == t.shape\n",
    "    t -= t_max\n",
    "    p = Tensor.exp(t)\n",
    "    # FIXME: find a way to avoid transpose twice.\n",
    "    p = Tensor.transpose(p) / Tensor.sum(p, start_dim=1)\n",
    "    return Tensor.transpose(p)\n",
    "\n",
    "t = Tensor.from_list( [ [1,2], [0,2], [4,10] ] )\n",
    "r = softmax(t)\n",
    "print(r.to_list())\n",
    "print(Tensor.sum(r, start_dim=1).to_list())"
   ]
  }
 ],
 "metadata": {
  "kernelspec": {
   "display_name": "llm",
   "language": "python",
   "name": "python3"
  },
  "language_info": {
   "codemirror_mode": {
    "name": "ipython",
    "version": 3
   },
   "file_extension": ".py",
   "mimetype": "text/x-python",
   "name": "python",
   "nbconvert_exporter": "python",
   "pygments_lexer": "ipython3",
   "version": "3.9.19"
  }
 },
 "nbformat": 4,
 "nbformat_minor": 5
}
