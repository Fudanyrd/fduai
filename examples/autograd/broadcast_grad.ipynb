{
 "cells": [
  {
   "cell_type": "markdown",
   "id": "14dbfdad",
   "metadata": {},
   "source": [
    "# Broadcasting\n",
    "\n",
    "`DataNode` supports numpy-like [broadcasting](https://numpy.org/doc/stable/user/basics.broadcasting.html#broadcasting) rules.\n",
    "For broadcasting operations, our `autograd` library will automatically generate the correct gradient for the  input tensors."
   ]
  },
  {
   "cell_type": "code",
   "execution_count": 1,
   "id": "3ddff08d",
   "metadata": {},
   "outputs": [],
   "source": [
    "from autograd import DataNode"
   ]
  },
  {
   "cell_type": "code",
   "execution_count": 2,
   "id": "1b71d347",
   "metadata": {},
   "outputs": [
    {
     "name": "stdout",
     "output_type": "stream",
     "text": [
      "[2, 4]\n"
     ]
    }
   ],
   "source": [
    "a = DataNode.zeros([2,4], requires_grad=True)\n",
    "b = DataNode.ones([1,4], requires_grad=True)\n",
    "\n",
    "r = a + b\n",
    "print(r.shape())"
   ]
  },
  {
   "cell_type": "code",
   "execution_count": 3,
   "id": "b86148d4",
   "metadata": {},
   "outputs": [
    {
     "name": "stdout",
     "output_type": "stream",
     "text": [
      "[[1.0, 1.0, 1.0, 1.0], [1.0, 1.0, 1.0, 1.0]]\n",
      "[[2.0, 2.0, 2.0, 2.0]]\n"
     ]
    }
   ],
   "source": [
    "r.backward()\n",
    "\n",
    "print(a.grad.to_list())\n",
    "print(b.grad.to_list())\n",
    "\n",
    "DataNode.zero_grad()"
   ]
  },
  {
   "cell_type": "code",
   "execution_count": 4,
   "id": "441c078f",
   "metadata": {},
   "outputs": [
    {
     "name": "stdout",
     "output_type": "stream",
     "text": [
      "[2, 3, 4]\n"
     ]
    }
   ],
   "source": [
    "a = DataNode.zeros([2, 1, 4], requires_grad=True)\n",
    "b = DataNode.ones([3,4], requires_grad=True)\n",
    "\n",
    "r = a + b\n",
    "print(r.shape())"
   ]
  },
  {
   "cell_type": "code",
   "execution_count": 5,
   "id": "7c19ef21",
   "metadata": {},
   "outputs": [
    {
     "name": "stdout",
     "output_type": "stream",
     "text": [
      "[[[3.0, 3.0, 3.0, 3.0]], [[3.0, 3.0, 3.0, 3.0]]]\n",
      "[[2.0, 2.0, 2.0, 2.0], [2.0, 2.0, 2.0, 2.0], [2.0, 2.0, 2.0, 2.0]]\n"
     ]
    }
   ],
   "source": [
    "r.backward()\n",
    "\n",
    "print(a.grad.to_list())\n",
    "print(b.grad.to_list())\n",
    "\n",
    "DataNode.zero_grad()"
   ]
  },
  {
   "cell_type": "markdown",
   "id": "d5d2ef07",
   "metadata": {},
   "source": [
    "Compare with pytorch."
   ]
  },
  {
   "cell_type": "code",
   "execution_count": 6,
   "id": "ae47ec71",
   "metadata": {},
   "outputs": [
    {
     "name": "stdout",
     "output_type": "stream",
     "text": [
      "torch.Size([2, 3, 4])\n",
      "tensor([[[3., 3., 3., 3.]],\n",
      "\n",
      "        [[3., 3., 3., 3.]]])\n",
      "tensor([[2., 2., 2., 2.],\n",
      "        [2., 2., 2., 2.],\n",
      "        [2., 2., 2., 2.]])\n"
     ]
    }
   ],
   "source": [
    "import torch\n",
    "\n",
    "a = torch.zeros((2, 1, 4), dtype=torch.float32, requires_grad=True)\n",
    "b = torch.ones((3, 4), dtype=torch.float32, requires_grad=True)\n",
    "\n",
    "r = a + b\n",
    "print(r.shape)\n",
    "l = torch.sum(r)\n",
    "\n",
    "l.backward()\n",
    "print(a.grad)\n",
    "print(b.grad)"
   ]
  }
 ],
 "metadata": {
  "kernelspec": {
   "display_name": "llm",
   "language": "python",
   "name": "python3"
  },
  "language_info": {
   "codemirror_mode": {
    "name": "ipython",
    "version": 3
   },
   "file_extension": ".py",
   "mimetype": "text/x-python",
   "name": "python",
   "nbconvert_exporter": "python",
   "pygments_lexer": "ipython3",
   "version": "3.9.19"
  }
 },
 "nbformat": 4,
 "nbformat_minor": 5
}
